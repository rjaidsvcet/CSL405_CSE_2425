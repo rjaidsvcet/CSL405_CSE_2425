{
 "cells": [
  {
   "cell_type": "markdown",
   "id": "71f3a04e-0301-4582-98a5-d360372c3f66",
   "metadata": {},
   "source": [
    "#### Sample Array"
   ]
  },
  {
   "cell_type": "code",
   "execution_count": 1,
   "id": "881fcda1-4260-4b75-8b3b-0c6d3e0fd9b9",
   "metadata": {},
   "outputs": [],
   "source": [
    "nums = [1, 2, 3, 4, 5, 6]"
   ]
  },
  {
   "cell_type": "code",
   "execution_count": 2,
   "id": "0835e159-67e8-483f-838f-d91b8a828fda",
   "metadata": {},
   "outputs": [
    {
     "name": "stdout",
     "output_type": "stream",
     "text": [
      "[1, 2, 3, 4, 5, 6]\n"
     ]
    }
   ],
   "source": [
    "myList = list ()\n",
    "\n",
    "for n in nums:\n",
    "    myList.append (n)\n",
    "\n",
    "print (myList)"
   ]
  },
  {
   "cell_type": "code",
   "execution_count": 3,
   "id": "fd22a95e-2c89-4656-9622-34633680b53b",
   "metadata": {},
   "outputs": [
    {
     "name": "stdout",
     "output_type": "stream",
     "text": [
      "[1, 2, 3, 4, 5, 6]\n"
     ]
    }
   ],
   "source": [
    "myList = [n for n in nums]\n",
    "print (myList)"
   ]
  },
  {
   "cell_type": "code",
   "execution_count": 4,
   "id": "6f0d1ec1-d4dc-47b4-ab08-ce9d958e8ddb",
   "metadata": {},
   "outputs": [
    {
     "name": "stdout",
     "output_type": "stream",
     "text": [
      "[1, 4, 9, 16, 25, 36]\n"
     ]
    }
   ],
   "source": [
    "myList = list ()\n",
    "\n",
    "for n in nums:\n",
    "    myList.append (n*n)\n",
    "\n",
    "print (myList)"
   ]
  },
  {
   "cell_type": "code",
   "execution_count": 5,
   "id": "1b19b9d0-64cd-45e6-aa68-bd6efe6d300e",
   "metadata": {},
   "outputs": [
    {
     "data": {
      "text/plain": [
       "[1, 4, 9, 16, 25, 36]"
      ]
     },
     "execution_count": 5,
     "metadata": {},
     "output_type": "execute_result"
    }
   ],
   "source": [
    "myList = [n*n for n in nums]\n",
    "myList"
   ]
  },
  {
   "cell_type": "markdown",
   "id": "988fa0fb-328d-4240-b82c-c02266694d02",
   "metadata": {},
   "source": [
    "#### Map Function"
   ]
  },
  {
   "cell_type": "code",
   "execution_count": 7,
   "id": "ac9ef34e-53dc-4fa3-84d9-488b66dc5776",
   "metadata": {},
   "outputs": [
    {
     "data": {
      "text/plain": [
       "[1, 4, 9, 16, 25, 36]"
      ]
     },
     "execution_count": 7,
     "metadata": {},
     "output_type": "execute_result"
    }
   ],
   "source": [
    "def squareFunction (n):\n",
    "    result = n*n\n",
    "    return result\n",
    "\n",
    "myList = map (squareFunction, nums)\n",
    "list (myList)"
   ]
  },
  {
   "cell_type": "markdown",
   "id": "b64e5ca9-4763-4e63-a9b5-57d058da403a",
   "metadata": {},
   "source": [
    "#### Lambda Function"
   ]
  },
  {
   "cell_type": "code",
   "execution_count": 8,
   "id": "b0c113da-00c8-464b-9600-417e1c62a8cd",
   "metadata": {},
   "outputs": [
    {
     "data": {
      "text/plain": [
       "[1, 4, 9, 16, 25, 36]"
      ]
     },
     "execution_count": 8,
     "metadata": {},
     "output_type": "execute_result"
    }
   ],
   "source": [
    "myList = map (lambda n : n*n, nums)\n",
    "list (myList)"
   ]
  },
  {
   "cell_type": "markdown",
   "id": "ff371be6-d756-4dbe-83b7-10be6f93e879",
   "metadata": {},
   "source": [
    "#### Filter Function"
   ]
  },
  {
   "cell_type": "code",
   "execution_count": 10,
   "id": "82d42e7d-7b7a-494f-ae0b-5b8d120c28a6",
   "metadata": {},
   "outputs": [
    {
     "data": {
      "text/plain": [
       "[2, 4, 6]"
      ]
     },
     "execution_count": 10,
     "metadata": {},
     "output_type": "execute_result"
    }
   ],
   "source": [
    "myList = list ()\n",
    "for n in nums:\n",
    "    if n % 2 == 0:\n",
    "        myList.append (n)\n",
    "    else:\n",
    "        pass\n",
    "\n",
    "myList"
   ]
  },
  {
   "cell_type": "code",
   "execution_count": 11,
   "id": "8a12a461-e922-4a24-b6c0-43f382f4a927",
   "metadata": {},
   "outputs": [
    {
     "data": {
      "text/plain": [
       "[2, 4, 6]"
      ]
     },
     "execution_count": 11,
     "metadata": {},
     "output_type": "execute_result"
    }
   ],
   "source": [
    "def filteringFunction (x):\n",
    "    if x % 2 == 0:\n",
    "        return True\n",
    "    else:\n",
    "        return False\n",
    "\n",
    "evenNumbers = filter (filteringFunction, nums)\n",
    "list (evenNumbers)"
   ]
  },
  {
   "cell_type": "code",
   "execution_count": 12,
   "id": "ad7e526e-0cd4-46c3-9399-7bb9bedda1cf",
   "metadata": {},
   "outputs": [
    {
     "data": {
      "text/plain": [
       "[2, 4, 6]"
      ]
     },
     "execution_count": 12,
     "metadata": {},
     "output_type": "execute_result"
    }
   ],
   "source": [
    "myList = filter (lambda n : n%2==0, nums)\n",
    "list (myList)"
   ]
  },
  {
   "cell_type": "markdown",
   "id": "c0cb7d63-9283-44ef-8ac1-faa18cf68d11",
   "metadata": {},
   "source": [
    "### Combine 2 lists to make one dictionary"
   ]
  },
  {
   "cell_type": "code",
   "execution_count": 13,
   "id": "7a879320-2d03-4e82-babf-096801ce396f",
   "metadata": {},
   "outputs": [],
   "source": [
    "names = ['Peter Parker', 'Norman Osbourn', 'Otto Octavius']\n",
    "identity = ['Spiderman', 'Green Goblin', 'Dr. Octopus']"
   ]
  },
  {
   "cell_type": "code",
   "execution_count": 15,
   "id": "3e0a03b5-643a-4424-9f5e-d20691dcafc4",
   "metadata": {},
   "outputs": [
    {
     "data": {
      "text/plain": [
       "[('Peter Parker', 'Spiderman'),\n",
       " ('Norman Osbourn', 'Green Goblin'),\n",
       " ('Otto Octavius', 'Dr. Octopus')]"
      ]
     },
     "execution_count": 15,
     "metadata": {},
     "output_type": "execute_result"
    }
   ],
   "source": [
    "list (zip (names, identity))"
   ]
  },
  {
   "cell_type": "code",
   "execution_count": 16,
   "id": "3cba251d-c05a-4782-aefa-c1cb2fb49483",
   "metadata": {},
   "outputs": [
    {
     "name": "stdout",
     "output_type": "stream",
     "text": [
      "{'Peter Parker': 'Spiderman', 'Norman Osbourn': 'Green Goblin', 'Otto Octavius': 'Dr. Octopus'}\n"
     ]
    }
   ],
   "source": [
    "myDict = dict ()\n",
    "\n",
    "for name, anotherName in zip (names, identity):\n",
    "    myDict[name] = anotherName\n",
    "\n",
    "print (myDict)"
   ]
  },
  {
   "cell_type": "markdown",
   "id": "6dfe6684-6ae2-4423-b729-bfda93600aac",
   "metadata": {},
   "source": [
    "### Dictionary Comprehension"
   ]
  },
  {
   "cell_type": "code",
   "execution_count": 17,
   "id": "82503803-adc7-4e6f-8a68-addb599f0ffd",
   "metadata": {},
   "outputs": [
    {
     "data": {
      "text/plain": [
       "{'Peter Parker': 'Spiderman',\n",
       " 'Norman Osbourn': 'Green Goblin',\n",
       " 'Otto Octavius': 'Dr. Octopus'}"
      ]
     },
     "execution_count": 17,
     "metadata": {},
     "output_type": "execute_result"
    }
   ],
   "source": [
    "myDict = {name : publicName for name, publicName in zip (names, identity)}\n",
    "myDict"
   ]
  },
  {
   "cell_type": "markdown",
   "id": "0165d73b-2fce-4394-aea3-a8383bfafb74",
   "metadata": {},
   "source": [
    "### Set - Hashset"
   ]
  },
  {
   "cell_type": "code",
   "execution_count": 18,
   "id": "b4b6958d-dd64-452f-b3be-fea88cde8850",
   "metadata": {},
   "outputs": [
    {
     "data": {
      "text/plain": [
       "{1, 2, 3, 4, 5}"
      ]
     },
     "execution_count": 18,
     "metadata": {},
     "output_type": "execute_result"
    }
   ],
   "source": [
    "genericSet = {1, 1, 2, 3, 4, 4, 5}\n",
    "genericSet"
   ]
  },
  {
   "cell_type": "code",
   "execution_count": 19,
   "id": "8c1fbecb-b1eb-4c48-9b17-8af3111d578e",
   "metadata": {},
   "outputs": [
    {
     "data": {
      "text/plain": [
       "{1, 2, 3, 4, 5}"
      ]
     },
     "execution_count": 19,
     "metadata": {},
     "output_type": "execute_result"
    }
   ],
   "source": [
    "mySet = set ()\n",
    "\n",
    "for g in genericSet:\n",
    "    mySet.add (g)\n",
    "\n",
    "mySet"
   ]
  },
  {
   "cell_type": "markdown",
   "id": "ae367faf-a25b-46fd-be99-fcc058f8e215",
   "metadata": {},
   "source": [
    "#### Set based comprehension"
   ]
  },
  {
   "cell_type": "code",
   "execution_count": 21,
   "id": "78523b46-3fc7-464a-9e70-1dfa4a8e246a",
   "metadata": {},
   "outputs": [
    {
     "data": {
      "text/plain": [
       "{1, 2, 3, 4, 5}"
      ]
     },
     "execution_count": 21,
     "metadata": {},
     "output_type": "execute_result"
    }
   ],
   "source": [
    "mySet = {g for g in genericSet}\n",
    "mySet"
   ]
  }
 ],
 "metadata": {
  "kernelspec": {
   "display_name": "Python 3 (ipykernel)",
   "language": "python",
   "name": "python3"
  },
  "language_info": {
   "codemirror_mode": {
    "name": "ipython",
    "version": 3
   },
   "file_extension": ".py",
   "mimetype": "text/x-python",
   "name": "python",
   "nbconvert_exporter": "python",
   "pygments_lexer": "ipython3",
   "version": "3.11.5"
  }
 },
 "nbformat": 4,
 "nbformat_minor": 5
}
