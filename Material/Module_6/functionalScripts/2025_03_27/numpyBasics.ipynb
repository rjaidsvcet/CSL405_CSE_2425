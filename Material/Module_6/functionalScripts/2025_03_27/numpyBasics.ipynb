{
 "cells": [
  {
   "cell_type": "code",
   "execution_count": 1,
   "id": "a37cfc3e-1b96-48d8-9607-8834990b41d7",
   "metadata": {},
   "outputs": [],
   "source": [
    "import numpy as np"
   ]
  },
  {
   "cell_type": "code",
   "execution_count": 2,
   "id": "5ff84cd3-1e12-4048-a8d9-3c308c250782",
   "metadata": {},
   "outputs": [],
   "source": [
    "firstArray = np.array ([1, 2, 3], dtype = 'int32')"
   ]
  },
  {
   "cell_type": "code",
   "execution_count": 3,
   "id": "a7171c93-3de5-4e52-ab36-b5222ae65733",
   "metadata": {},
   "outputs": [
    {
     "data": {
      "text/plain": [
       "array([1, 2, 3])"
      ]
     },
     "execution_count": 3,
     "metadata": {},
     "output_type": "execute_result"
    }
   ],
   "source": [
    "firstArray"
   ]
  },
  {
   "cell_type": "code",
   "execution_count": 4,
   "id": "87f3487b-8080-4788-9f3f-c7b620c1c07f",
   "metadata": {},
   "outputs": [],
   "source": [
    "secondArray = np.array ([[9.0, 8.0, 7.0], [6.0, 5.0, 4.0]])"
   ]
  },
  {
   "cell_type": "code",
   "execution_count": 5,
   "id": "e15a6f08-ff33-4f83-8537-449518dd6cab",
   "metadata": {},
   "outputs": [
    {
     "data": {
      "text/plain": [
       "(2, 3)"
      ]
     },
     "execution_count": 5,
     "metadata": {},
     "output_type": "execute_result"
    }
   ],
   "source": [
    "secondArray.shape"
   ]
  },
  {
   "cell_type": "code",
   "execution_count": 6,
   "id": "0e4ab7e4-2a54-4221-b4ba-01c7fc87b8d3",
   "metadata": {},
   "outputs": [
    {
     "data": {
      "text/plain": [
       "2"
      ]
     },
     "execution_count": 6,
     "metadata": {},
     "output_type": "execute_result"
    }
   ],
   "source": [
    "secondArray.ndim"
   ]
  },
  {
   "cell_type": "code",
   "execution_count": 7,
   "id": "55ab7715-ca40-47cd-8600-5a679f928130",
   "metadata": {},
   "outputs": [
    {
     "data": {
      "text/plain": [
       "dtype('float64')"
      ]
     },
     "execution_count": 7,
     "metadata": {},
     "output_type": "execute_result"
    }
   ],
   "source": [
    "secondArray.dtype"
   ]
  },
  {
   "cell_type": "code",
   "execution_count": 8,
   "id": "bbb086a3-1eec-4fae-a0b9-123acea35bf1",
   "metadata": {},
   "outputs": [
    {
     "data": {
      "text/plain": [
       "6"
      ]
     },
     "execution_count": 8,
     "metadata": {},
     "output_type": "execute_result"
    }
   ],
   "source": [
    "secondArray.size"
   ]
  },
  {
   "cell_type": "markdown",
   "id": "05770271-1af3-4861-b6fe-4486cc971cf0",
   "metadata": {},
   "source": [
    "#### Indexing"
   ]
  },
  {
   "cell_type": "code",
   "execution_count": 9,
   "id": "1d4e40d9-7848-47eb-b810-1b11e2cc7e7f",
   "metadata": {},
   "outputs": [
    {
     "data": {
      "text/plain": [
       "array([[9., 8., 7.],\n",
       "       [6., 5., 4.]])"
      ]
     },
     "execution_count": 9,
     "metadata": {},
     "output_type": "execute_result"
    }
   ],
   "source": [
    "secondArray"
   ]
  },
  {
   "cell_type": "code",
   "execution_count": 10,
   "id": "09b4ed8f-c283-4b20-8550-cdb5056b0aaa",
   "metadata": {},
   "outputs": [
    {
     "data": {
      "text/plain": [
       "5.0"
      ]
     },
     "execution_count": 10,
     "metadata": {},
     "output_type": "execute_result"
    }
   ],
   "source": [
    "secondArray[1, 1]"
   ]
  },
  {
   "cell_type": "code",
   "execution_count": 11,
   "id": "30fc641e-6664-4ae3-8f02-be4c282adfcf",
   "metadata": {},
   "outputs": [
    {
     "data": {
      "text/plain": [
       "array([9., 8., 7.])"
      ]
     },
     "execution_count": 11,
     "metadata": {},
     "output_type": "execute_result"
    }
   ],
   "source": [
    "secondArray[0, :]"
   ]
  },
  {
   "cell_type": "code",
   "execution_count": 12,
   "id": "015004bf-d5bf-47f4-a1a8-7aa9a0e35bf3",
   "metadata": {},
   "outputs": [
    {
     "data": {
      "text/plain": [
       "array([8., 5.])"
      ]
     },
     "execution_count": 12,
     "metadata": {},
     "output_type": "execute_result"
    }
   ],
   "source": [
    "secondArray[:, 1]"
   ]
  },
  {
   "cell_type": "code",
   "execution_count": 13,
   "id": "60bddcaf-9f72-4416-bcf9-f454ea3485b2",
   "metadata": {},
   "outputs": [],
   "source": [
    "### [startindex:endindex:steps]"
   ]
  },
  {
   "cell_type": "code",
   "execution_count": 14,
   "id": "9dc540f2-0708-48f9-9cfd-2b7c76a86aa6",
   "metadata": {},
   "outputs": [
    {
     "data": {
      "text/plain": [
       "array([8.])"
      ]
     },
     "execution_count": 14,
     "metadata": {},
     "output_type": "execute_result"
    }
   ],
   "source": [
    "secondArray[0, 1:-1:1]"
   ]
  },
  {
   "cell_type": "code",
   "execution_count": 15,
   "id": "2de913cf-9601-4534-bdf6-38b58df4a599",
   "metadata": {},
   "outputs": [
    {
     "data": {
      "text/plain": [
       "array([[9., 8., 7.],\n",
       "       [6., 5., 4.]])"
      ]
     },
     "execution_count": 15,
     "metadata": {},
     "output_type": "execute_result"
    }
   ],
   "source": [
    "secondArray"
   ]
  },
  {
   "cell_type": "code",
   "execution_count": 16,
   "id": "f13fd5e6-ea7c-4ed8-a020-52367ae13407",
   "metadata": {},
   "outputs": [],
   "source": [
    "secondArray[1, 2] = 10"
   ]
  },
  {
   "cell_type": "code",
   "execution_count": 17,
   "id": "a4563450-e095-4e5e-8375-ba04f17cdb31",
   "metadata": {},
   "outputs": [
    {
     "data": {
      "text/plain": [
       "array([[ 9.,  8.,  7.],\n",
       "       [ 6.,  5., 10.]])"
      ]
     },
     "execution_count": 17,
     "metadata": {},
     "output_type": "execute_result"
    }
   ],
   "source": [
    "secondArray"
   ]
  },
  {
   "cell_type": "code",
   "execution_count": 18,
   "id": "d9e4cec8-3e61-42c1-9847-0207d62f9869",
   "metadata": {},
   "outputs": [
    {
     "data": {
      "text/plain": [
       "array([[1., 1., 1.],\n",
       "       [1., 1., 1.],\n",
       "       [1., 1., 1.]])"
      ]
     },
     "execution_count": 18,
     "metadata": {},
     "output_type": "execute_result"
    }
   ],
   "source": [
    "np.ones ((3, 3))"
   ]
  },
  {
   "cell_type": "code",
   "execution_count": 19,
   "id": "1996bc35-1a5d-442b-b0ca-0bd52f7c5f93",
   "metadata": {},
   "outputs": [
    {
     "data": {
      "text/plain": [
       "array([[0., 0., 0.],\n",
       "       [0., 0., 0.],\n",
       "       [0., 0., 0.]])"
      ]
     },
     "execution_count": 19,
     "metadata": {},
     "output_type": "execute_result"
    }
   ],
   "source": [
    "np.zeros ((3, 3))"
   ]
  },
  {
   "cell_type": "code",
   "execution_count": 20,
   "id": "beff9d11-3392-4203-a797-eb5b9d3a286a",
   "metadata": {},
   "outputs": [
    {
     "data": {
      "text/plain": [
       "array([[99, 99, 99],\n",
       "       [99, 99, 99],\n",
       "       [99, 99, 99]])"
      ]
     },
     "execution_count": 20,
     "metadata": {},
     "output_type": "execute_result"
    }
   ],
   "source": [
    "np.full ((3, 3), 99)"
   ]
  },
  {
   "cell_type": "code",
   "execution_count": 21,
   "id": "d6f52b83-2c3a-4e99-b39b-dca03f88620b",
   "metadata": {},
   "outputs": [
    {
     "data": {
      "text/plain": [
       "array([[1., 0., 0., 0., 0.],\n",
       "       [0., 1., 0., 0., 0.],\n",
       "       [0., 0., 1., 0., 0.],\n",
       "       [0., 0., 0., 1., 0.],\n",
       "       [0., 0., 0., 0., 1.]])"
      ]
     },
     "execution_count": 21,
     "metadata": {},
     "output_type": "execute_result"
    }
   ],
   "source": [
    "np.identity (5)"
   ]
  },
  {
   "cell_type": "markdown",
   "id": "36444657-7ac2-42fb-b54b-ea33da6b9f87",
   "metadata": {},
   "source": [
    "### 3-D Tensor Example"
   ]
  },
  {
   "cell_type": "code",
   "execution_count": 22,
   "id": "a9817529-c171-43bd-a9ae-952d0536f394",
   "metadata": {},
   "outputs": [],
   "source": [
    "tensor = np.array (\n",
    "    [\n",
    "        [\n",
    "            [1, 2],\n",
    "            [3, 4]\n",
    "        ],\n",
    "        [\n",
    "            [5, 6],\n",
    "            [7, 8]\n",
    "        ]\n",
    "    ]\n",
    ")"
   ]
  },
  {
   "cell_type": "code",
   "execution_count": 23,
   "id": "107ce251-2131-4205-9117-7d4374fc7237",
   "metadata": {},
   "outputs": [
    {
     "data": {
      "text/plain": [
       "4"
      ]
     },
     "execution_count": 23,
     "metadata": {},
     "output_type": "execute_result"
    }
   ],
   "source": [
    "tensor[0, 1, 1]"
   ]
  },
  {
   "cell_type": "code",
   "execution_count": 24,
   "id": "95139183-3d83-4a28-8ff7-c9c23b1b6288",
   "metadata": {},
   "outputs": [
    {
     "data": {
      "text/plain": [
       "array([[[1, 2],\n",
       "        [3, 4]],\n",
       "\n",
       "       [[5, 6],\n",
       "        [7, 8]]])"
      ]
     },
     "execution_count": 24,
     "metadata": {},
     "output_type": "execute_result"
    }
   ],
   "source": [
    "tensor"
   ]
  },
  {
   "cell_type": "code",
   "execution_count": 25,
   "id": "bdaba49e-93bb-4b63-9d43-341c209c8743",
   "metadata": {},
   "outputs": [],
   "source": [
    "tensor[:, 1, :] = [[9, 9], [8, 8]]"
   ]
  },
  {
   "cell_type": "code",
   "execution_count": 26,
   "id": "fcb11ca2-2a75-4ed1-bb38-534decf481f1",
   "metadata": {},
   "outputs": [
    {
     "data": {
      "text/plain": [
       "array([[[1, 2],\n",
       "        [9, 9]],\n",
       "\n",
       "       [[5, 6],\n",
       "        [8, 8]]])"
      ]
     },
     "execution_count": 26,
     "metadata": {},
     "output_type": "execute_result"
    }
   ],
   "source": [
    "tensor"
   ]
  },
  {
   "cell_type": "markdown",
   "id": "80e4a424-d589-4d92-ac94-9a2d629117c2",
   "metadata": {},
   "source": [
    "### Random Matrix"
   ]
  },
  {
   "cell_type": "code",
   "execution_count": 32,
   "id": "1e7bddb7-97a0-4cc2-a64f-f7556ce183f5",
   "metadata": {},
   "outputs": [
    {
     "data": {
      "text/plain": [
       "array([[0.93435448, 0.26285577],\n",
       "       [0.64740105, 0.02785513],\n",
       "       [0.48161114, 0.40097853],\n",
       "       [0.71777909, 0.16221966]])"
      ]
     },
     "execution_count": 32,
     "metadata": {},
     "output_type": "execute_result"
    }
   ],
   "source": [
    "np.random.rand (4, 2)"
   ]
  },
  {
   "cell_type": "code",
   "execution_count": 42,
   "id": "3d4261bb-8806-42db-9891-bb82e9820562",
   "metadata": {},
   "outputs": [
    {
     "data": {
      "text/plain": [
       "array([[ 0, -2, -2],\n",
       "       [-2,  3,  5],\n",
       "       [-4,  4,  5]])"
      ]
     },
     "execution_count": 42,
     "metadata": {},
     "output_type": "execute_result"
    }
   ],
   "source": [
    "np.random.randint (-4, 8, size = (3, 3), dtype='int32')"
   ]
  },
  {
   "cell_type": "code",
   "execution_count": 43,
   "id": "9f9e56e6-0c69-49ea-8eed-3da1b7eef289",
   "metadata": {},
   "outputs": [
    {
     "data": {
      "text/plain": [
       "array([1, 2, 3])"
      ]
     },
     "execution_count": 43,
     "metadata": {},
     "output_type": "execute_result"
    }
   ],
   "source": [
    "firstArray"
   ]
  },
  {
   "cell_type": "code",
   "execution_count": 44,
   "id": "261f017a-60c2-42d1-bfc3-892963684cd1",
   "metadata": {},
   "outputs": [
    {
     "data": {
      "text/plain": [
       "array([3, 4, 5])"
      ]
     },
     "execution_count": 44,
     "metadata": {},
     "output_type": "execute_result"
    }
   ],
   "source": [
    "firstArray + 2"
   ]
  },
  {
   "cell_type": "code",
   "execution_count": 45,
   "id": "3b7b5ca6-456c-4afe-948e-39b86fa1ab14",
   "metadata": {},
   "outputs": [
    {
     "data": {
      "text/plain": [
       "array([2, 4, 6])"
      ]
     },
     "execution_count": 45,
     "metadata": {},
     "output_type": "execute_result"
    }
   ],
   "source": [
    "firstArray * 2"
   ]
  },
  {
   "cell_type": "markdown",
   "id": "101c0f58-e187-4bc8-afea-ec887b4cd3d3",
   "metadata": {},
   "source": [
    "### Linear Algebra"
   ]
  },
  {
   "cell_type": "code",
   "execution_count": 48,
   "id": "46f9c12a-dc5b-4900-af6e-12796bdaa057",
   "metadata": {},
   "outputs": [],
   "source": [
    "identityMatrix = np.identity (5, dtype='int64')"
   ]
  },
  {
   "cell_type": "code",
   "execution_count": 50,
   "id": "0acec1e1-91c7-4d48-82dc-1699c03f1280",
   "metadata": {
    "scrolled": true
   },
   "outputs": [
    {
     "data": {
      "text/plain": [
       "array([[1, 0, 0, 0, 0],\n",
       "       [0, 1, 0, 0, 0],\n",
       "       [0, 0, 1, 0, 0],\n",
       "       [0, 0, 0, 1, 0],\n",
       "       [0, 0, 0, 0, 1]], dtype=int64)"
      ]
     },
     "execution_count": 50,
     "metadata": {},
     "output_type": "execute_result"
    }
   ],
   "source": [
    "identityMatrix"
   ]
  },
  {
   "cell_type": "code",
   "execution_count": 51,
   "id": "af2d580a-7e90-44e0-8a49-195bbb5dfa00",
   "metadata": {},
   "outputs": [
    {
     "data": {
      "text/plain": [
       "1"
      ]
     },
     "execution_count": 51,
     "metadata": {},
     "output_type": "execute_result"
    }
   ],
   "source": [
    "int (np.linalg.det (identityMatrix))"
   ]
  },
  {
   "cell_type": "code",
   "execution_count": 52,
   "id": "a70280cf-449f-4416-b33d-51ed07c73a0c",
   "metadata": {},
   "outputs": [],
   "source": [
    "firstArray = np.ones ((1000, 1000))\n",
    "secondArray = np.zeros ((1000, 1000))"
   ]
  },
  {
   "cell_type": "code",
   "execution_count": 53,
   "id": "adea6804-83df-4651-a122-0753fa887352",
   "metadata": {},
   "outputs": [],
   "source": [
    "from time import perf_counter"
   ]
  },
  {
   "cell_type": "code",
   "execution_count": 54,
   "id": "fca69421-9bac-4eb2-a668-7b2e8852d6ee",
   "metadata": {},
   "outputs": [
    {
     "name": "stdout",
     "output_type": "stream",
     "text": [
      "Time taken 0.09458769999946526\n"
     ]
    }
   ],
   "source": [
    "startTime = perf_counter ()\n",
    "dotProduct = np.dot (firstArray, secondArray)\n",
    "endTime = perf_counter ()\n",
    "print (f'Time taken {endTime - startTime}')"
   ]
  },
  {
   "cell_type": "code",
   "execution_count": 55,
   "id": "866b66c8-a3a3-4eb5-ab60-941c296a9e37",
   "metadata": {},
   "outputs": [
    {
     "name": "stdout",
     "output_type": "stream",
     "text": [
      "Time taken 0.04447309999886784\n"
     ]
    }
   ],
   "source": [
    "startTime = perf_counter ()\n",
    "dotProduct = np.matmul (firstArray, secondArray)\n",
    "endTime = perf_counter ()\n",
    "print (f'Time taken {endTime - startTime}')"
   ]
  },
  {
   "cell_type": "code",
   "execution_count": 56,
   "id": "19547895-10af-484d-ace4-10469ccec4e5",
   "metadata": {},
   "outputs": [
    {
     "name": "stdout",
     "output_type": "stream",
     "text": [
      "Time taken 0.0402472999994643\n"
     ]
    }
   ],
   "source": [
    "startTime = perf_counter ()\n",
    "dotProduct = firstArray @ secondArray\n",
    "endTime = perf_counter ()\n",
    "print (f'Time taken {endTime - startTime}')"
   ]
  },
  {
   "cell_type": "markdown",
   "id": "3956c7b4-9d3a-4d2f-ad13-97ffc64032e3",
   "metadata": {},
   "source": [
    "### Reorganizing Structures"
   ]
  },
  {
   "cell_type": "markdown",
   "id": "682e57c0-934e-4754-91e7-8cc57abe1eda",
   "metadata": {},
   "source": [
    "#### Vertical Structuring"
   ]
  },
  {
   "cell_type": "code",
   "execution_count": 57,
   "id": "50cb2763-118a-48f1-8c31-d602a508c902",
   "metadata": {},
   "outputs": [],
   "source": [
    "v1 = np.array ([1, 2, 3, 4])\n",
    "v2 = np.array ([5, 6, 7, 8])"
   ]
  },
  {
   "cell_type": "code",
   "execution_count": 58,
   "id": "c98fd268-74b9-4b34-bc5a-b4904249e83c",
   "metadata": {},
   "outputs": [
    {
     "data": {
      "text/plain": [
       "array([[1, 2, 3, 4],\n",
       "       [5, 6, 7, 8],\n",
       "       [1, 2, 3, 4],\n",
       "       [5, 6, 7, 8]])"
      ]
     },
     "execution_count": 58,
     "metadata": {},
     "output_type": "execute_result"
    }
   ],
   "source": [
    "np.vstack ([v1, v2, v1, v2])"
   ]
  },
  {
   "cell_type": "markdown",
   "id": "c429eeb9-ac10-4782-9aa5-843d2725a45f",
   "metadata": {},
   "source": [
    "#### Horizontal Stacking"
   ]
  },
  {
   "cell_type": "code",
   "execution_count": 60,
   "id": "0d4ccf5a-5ef7-4182-9596-94d55b0c984f",
   "metadata": {},
   "outputs": [],
   "source": [
    "h1 = np.ones ((2, 2))\n",
    "h2 = np.zeros ((2, 2))"
   ]
  },
  {
   "cell_type": "code",
   "execution_count": 61,
   "id": "84adc6a5-5f25-4679-81b7-21bcf34c153b",
   "metadata": {},
   "outputs": [
    {
     "data": {
      "text/plain": [
       "array([[1., 1., 0., 0., 1., 1.],\n",
       "       [1., 1., 0., 0., 1., 1.]])"
      ]
     },
     "execution_count": 61,
     "metadata": {},
     "output_type": "execute_result"
    }
   ],
   "source": [
    "np.hstack ([h1, h2, h1])"
   ]
  },
  {
   "cell_type": "markdown",
   "id": "298d5aed-5551-495b-8351-e7d3f81e7c2b",
   "metadata": {},
   "source": [
    "### Reshape"
   ]
  },
  {
   "cell_type": "code",
   "execution_count": 62,
   "id": "d69fe2db-7d3b-4320-a6d1-0100bdee264b",
   "metadata": {},
   "outputs": [
    {
     "data": {
      "text/plain": [
       "array([[1, 2, 3, 4],\n",
       "       [5, 6, 7, 8]])"
      ]
     },
     "execution_count": 62,
     "metadata": {},
     "output_type": "execute_result"
    }
   ],
   "source": [
    "before = np.array ([[1, 2, 3, 4], [5, 6, 7, 8]])\n",
    "before"
   ]
  },
  {
   "cell_type": "code",
   "execution_count": 63,
   "id": "4b781439-39cc-4656-a9e5-0f179c473463",
   "metadata": {},
   "outputs": [
    {
     "data": {
      "text/plain": [
       "array([[[1, 2],\n",
       "        [3, 4]],\n",
       "\n",
       "       [[5, 6],\n",
       "        [7, 8]]])"
      ]
     },
     "execution_count": 63,
     "metadata": {},
     "output_type": "execute_result"
    }
   ],
   "source": [
    "after = before.reshape ((-1, 2, 2))\n",
    "after"
   ]
  },
  {
   "cell_type": "code",
   "execution_count": null,
   "id": "ececa9cd-5936-4a5e-b206-c767b528a4de",
   "metadata": {},
   "outputs": [],
   "source": []
  },
  {
   "cell_type": "code",
   "execution_count": null,
   "id": "59e3023b-9ce5-4956-bebd-918900b61f5e",
   "metadata": {},
   "outputs": [],
   "source": []
  },
  {
   "cell_type": "code",
   "execution_count": null,
   "id": "8787acc9-628d-41b8-bb25-d093c81b1ee4",
   "metadata": {},
   "outputs": [],
   "source": []
  },
  {
   "cell_type": "code",
   "execution_count": null,
   "id": "d360c0af-5cf8-4b55-a8b6-d7285557ce37",
   "metadata": {},
   "outputs": [],
   "source": []
  }
 ],
 "metadata": {
  "kernelspec": {
   "display_name": "Python 3 (ipykernel)",
   "language": "python",
   "name": "python3"
  },
  "language_info": {
   "codemirror_mode": {
    "name": "ipython",
    "version": 3
   },
   "file_extension": ".py",
   "mimetype": "text/x-python",
   "name": "python",
   "nbconvert_exporter": "python",
   "pygments_lexer": "ipython3",
   "version": "3.11.5"
  }
 },
 "nbformat": 4,
 "nbformat_minor": 5
}
