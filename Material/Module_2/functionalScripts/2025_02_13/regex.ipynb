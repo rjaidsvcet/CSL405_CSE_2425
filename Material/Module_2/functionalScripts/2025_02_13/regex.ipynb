{
 "cells": [
  {
   "cell_type": "code",
   "execution_count": 4,
   "id": "9e65557b-c26a-4be6-98fa-4d7be4184079",
   "metadata": {},
   "outputs": [],
   "source": [
    "phoneNumbers = '''\n",
    "123-456-7890\n",
    "123*456*7890\n",
    "Mr. Griffith\n",
    "'''"
   ]
  },
  {
   "cell_type": "code",
   "execution_count": 5,
   "id": "26c5ad62-dbf8-4823-99d5-e0ae757d18f1",
   "metadata": {},
   "outputs": [],
   "source": [
    "import re"
   ]
  },
  {
   "cell_type": "code",
   "execution_count": 9,
   "id": "f22298f5-e5bf-4fd6-a922-48b15997201e",
   "metadata": {},
   "outputs": [
    {
     "name": "stdout",
     "output_type": "stream",
     "text": [
      "<re.Match object; span=(0, 1), match='\\n'>\n",
      "<re.Match object; span=(4, 5), match='-'>\n",
      "<re.Match object; span=(8, 9), match='-'>\n",
      "<re.Match object; span=(13, 14), match='\\n'>\n",
      "<re.Match object; span=(17, 18), match='*'>\n",
      "<re.Match object; span=(21, 22), match='*'>\n",
      "<re.Match object; span=(26, 27), match='\\n'>\n",
      "<re.Match object; span=(29, 30), match='.'>\n",
      "<re.Match object; span=(30, 31), match=' '>\n",
      "<re.Match object; span=(39, 40), match='\\n'>\n"
     ]
    }
   ],
   "source": [
    "# pattern = re.compile (r'[a-zA-Z0-9]')\n",
    "pattern = re.compile (r'[^a-zA-Z0-9]')\n",
    "matches = pattern.finditer (phoneNumbers)\n",
    "for _ in matches:\n",
    "    print (_)"
   ]
  },
  {
   "cell_type": "code",
   "execution_count": 10,
   "id": "f64612d1-8db9-4529-ae8a-35d30a026f8a",
   "metadata": {},
   "outputs": [],
   "source": [
    "threeLetters = '''\n",
    "bat\n",
    "cat\n",
    "mat\n",
    "rat\n",
    "'''"
   ]
  },
  {
   "cell_type": "code",
   "execution_count": 12,
   "id": "8409b6c1-3b12-4023-91b7-dd81ab50e817",
   "metadata": {},
   "outputs": [
    {
     "name": "stdout",
     "output_type": "stream",
     "text": [
      "<re.Match object; span=(5, 8), match='cat'>\n",
      "<re.Match object; span=(9, 12), match='mat'>\n",
      "<re.Match object; span=(13, 16), match='rat'>\n"
     ]
    }
   ],
   "source": [
    "pattern = re.compile (r'[^b]at')\n",
    "matches = pattern.finditer (threeLetters)\n",
    "for _ in matches:\n",
    "    print (_)"
   ]
  },
  {
   "cell_type": "code",
   "execution_count": 13,
   "id": "14101e6d-b8e7-453f-8527-743fee425187",
   "metadata": {},
   "outputs": [
    {
     "name": "stdout",
     "output_type": "stream",
     "text": [
      "<re.Match object; span=(1, 13), match='123-456-7890'>\n",
      "<re.Match object; span=(14, 26), match='123*456*7890'>\n"
     ]
    }
   ],
   "source": [
    "pattern = re.compile (r'\\d{3}.\\d{3}.\\d{4}')\n",
    "matches = pattern.finditer (phoneNumbers)\n",
    "for m in matches:\n",
    "    print (m)"
   ]
  },
  {
   "cell_type": "code",
   "execution_count": 14,
   "id": "6effc381-3a30-4099-a104-49d23ca2c19f",
   "metadata": {},
   "outputs": [],
   "source": [
    "namesHolder = '''\n",
    "Mr. Tony\n",
    "Mr Peter\n",
    "Ms Gwen\n",
    "Mrs. Aunt\n",
    "Mr. T\n",
    "'''"
   ]
  },
  {
   "cell_type": "code",
   "execution_count": 18,
   "id": "a0b468dc-b61e-4403-9cc8-03c7c02f817d",
   "metadata": {},
   "outputs": [
    {
     "name": "stdout",
     "output_type": "stream",
     "text": [
      "<re.Match object; span=(1, 9), match='Mr. Tony'>\n",
      "<re.Match object; span=(10, 18), match='Mr Peter'>\n",
      "<re.Match object; span=(19, 26), match='Ms Gwen'>\n",
      "<re.Match object; span=(27, 36), match='Mrs. Aunt'>\n",
      "<re.Match object; span=(37, 42), match='Mr. T'>\n"
     ]
    }
   ],
   "source": [
    "# pattern = re.compile (r'Mr\\.?\\s[A-Z]\\w+')\n",
    "# pattern = re.compile (r'Mr\\.?\\s[A-Z]\\w*')\n",
    "pattern = re.compile (r'M(r|rs|s)\\.?\\s[A-Z]\\w*')\n",
    "matches = pattern.finditer (namesHolder)\n",
    "for m in matches:\n",
    "    print (m)"
   ]
  },
  {
   "cell_type": "code",
   "execution_count": 19,
   "id": "7037ed67-6d89-4ff5-92e6-cbe264b8f670",
   "metadata": {},
   "outputs": [],
   "source": [
    "emails = '''\n",
    "BruceWayne@gmail.com\n",
    "bruce.wayne@dc.edu\n",
    "bruce-123-wayne@gotham-city.net\n",
    "'''"
   ]
  },
  {
   "cell_type": "code",
   "execution_count": 22,
   "id": "11d3f2ed-e26c-4e35-99ab-a90b5d3be1f0",
   "metadata": {},
   "outputs": [
    {
     "name": "stdout",
     "output_type": "stream",
     "text": [
      "<re.Match object; span=(1, 21), match='BruceWayne@gmail.com'>\n",
      "<re.Match object; span=(22, 40), match='bruce.wayne@dc.edu'>\n",
      "<re.Match object; span=(41, 72), match='bruce-123-wayne@gotham-city.net'>\n"
     ]
    }
   ],
   "source": [
    "# pattern = re.compile (r'[a-zA-Z0-9]+@[a-z]+\\.com')\n",
    "# pattern = re.compile (r'[a-zA-Z0-9.]+@[a-z]+\\.(com|edu|net)')\n",
    "pattern = re.compile (r'[a-zA-Z0-9.-]+@[a-z-]+\\.(com|edu|net)')\n",
    "matches = pattern.finditer (emails)\n",
    "for m in matches:\n",
    "    print (m)"
   ]
  },
  {
   "cell_type": "code",
   "execution_count": null,
   "id": "b5a273df-26f8-42bc-912c-18afda42afb5",
   "metadata": {},
   "outputs": [],
   "source": []
  }
 ],
 "metadata": {
  "kernelspec": {
   "display_name": "Python 3 (ipykernel)",
   "language": "python",
   "name": "python3"
  },
  "language_info": {
   "codemirror_mode": {
    "name": "ipython",
    "version": 3
   },
   "file_extension": ".py",
   "mimetype": "text/x-python",
   "name": "python",
   "nbconvert_exporter": "python",
   "pygments_lexer": "ipython3",
   "version": "3.11.5"
  }
 },
 "nbformat": 4,
 "nbformat_minor": 5
}
