{
 "cells": [
  {
   "cell_type": "code",
   "execution_count": 2,
   "id": "a3387a41-84fa-4b34-a1c3-0784d7da12b6",
   "metadata": {},
   "outputs": [],
   "source": [
    "textToSearch = '''\n",
    "abcdefghijklmnopqrstuvwxyz\n",
    "ABCDEFGHIJKLMNOPQRSTUVWXYZ\n",
    "\n",
    "Ha HaHa\n",
    "\n",
    "Meta Characters\n",
    ". ^ $ * + { } [ ] \\ | ( )\n",
    "\n",
    "google.com\n",
    "\n",
    "123-456-7890\n",
    "123.456.7890\n",
    "\n",
    "Mr. Ramesh\n",
    "Mr Suresh\n",
    "Ms Shital\n",
    "Mrs. Garima\n",
    "Mr. R\n",
    "'''"
   ]
  },
  {
   "cell_type": "code",
   "execution_count": 3,
   "id": "68e84853-1352-41ee-9d07-23184c5eed28",
   "metadata": {},
   "outputs": [],
   "source": [
    "import re"
   ]
  },
  {
   "cell_type": "code",
   "execution_count": 4,
   "id": "274b1881-43d5-42c3-ba00-01774e79ba55",
   "metadata": {},
   "outputs": [
    {
     "name": "stdout",
     "output_type": "stream",
     "text": [
      "\tTab\n"
     ]
    }
   ],
   "source": [
    "print ('\\tTab')"
   ]
  },
  {
   "cell_type": "code",
   "execution_count": 5,
   "id": "962e76e5-fc12-4eb5-a634-9b6e905b847b",
   "metadata": {},
   "outputs": [
    {
     "name": "stdout",
     "output_type": "stream",
     "text": [
      "\\tTab\n"
     ]
    }
   ],
   "source": [
    "print (r'\\tTab')"
   ]
  },
  {
   "cell_type": "code",
   "execution_count": 6,
   "id": "7eb1f0ad-04ad-424c-b65c-9bef65e3f49c",
   "metadata": {},
   "outputs": [
    {
     "name": "stdout",
     "output_type": "stream",
     "text": [
      "<re.Match object; span=(1, 4), match='abc'>\n"
     ]
    }
   ],
   "source": [
    "pattern = re.compile (r'abc')\n",
    "matches = pattern.finditer (textToSearch)\n",
    "for _ in matches:\n",
    "    print (_)"
   ]
  },
  {
   "cell_type": "code",
   "execution_count": 7,
   "id": "bc971b3c-61f5-4969-a115-91c558a4591b",
   "metadata": {},
   "outputs": [
    {
     "name": "stdout",
     "output_type": "stream",
     "text": [
      "<re.Match object; span=(81, 82), match='.'>\n",
      "<re.Match object; span=(114, 115), match='.'>\n",
      "<re.Match object; span=(136, 137), match='.'>\n",
      "<re.Match object; span=(140, 141), match='.'>\n",
      "<re.Match object; span=(149, 150), match='.'>\n",
      "<re.Match object; span=(181, 182), match='.'>\n",
      "<re.Match object; span=(192, 193), match='.'>\n"
     ]
    }
   ],
   "source": [
    "pattern = re.compile (r'\\.')\n",
    "matches = pattern.finditer (textToSearch)\n",
    "for _ in matches:\n",
    "    print (_)"
   ]
  },
  {
   "cell_type": "code",
   "execution_count": 13,
   "id": "58c14fb4-63bd-49c9-a18f-f027afddfbdc",
   "metadata": {},
   "outputs": [
    {
     "name": "stdout",
     "output_type": "stream",
     "text": [
      "<re.Match object; span=(1, 2), match='a'>\n",
      "<re.Match object; span=(2, 3), match='b'>\n",
      "<re.Match object; span=(3, 4), match='c'>\n",
      "<re.Match object; span=(4, 5), match='d'>\n",
      "<re.Match object; span=(5, 6), match='e'>\n",
      "<re.Match object; span=(6, 7), match='f'>\n",
      "<re.Match object; span=(7, 8), match='g'>\n",
      "<re.Match object; span=(8, 9), match='h'>\n",
      "<re.Match object; span=(9, 10), match='i'>\n",
      "<re.Match object; span=(10, 11), match='j'>\n",
      "<re.Match object; span=(11, 12), match='k'>\n",
      "<re.Match object; span=(12, 13), match='l'>\n",
      "<re.Match object; span=(13, 14), match='m'>\n",
      "<re.Match object; span=(14, 15), match='n'>\n",
      "<re.Match object; span=(15, 16), match='o'>\n",
      "<re.Match object; span=(16, 17), match='p'>\n",
      "<re.Match object; span=(17, 18), match='q'>\n",
      "<re.Match object; span=(18, 19), match='r'>\n",
      "<re.Match object; span=(19, 20), match='s'>\n",
      "<re.Match object; span=(20, 21), match='t'>\n",
      "<re.Match object; span=(21, 22), match='u'>\n",
      "<re.Match object; span=(22, 23), match='v'>\n",
      "<re.Match object; span=(23, 24), match='w'>\n",
      "<re.Match object; span=(24, 25), match='x'>\n",
      "<re.Match object; span=(25, 26), match='y'>\n",
      "<re.Match object; span=(26, 27), match='z'>\n",
      "<re.Match object; span=(28, 29), match='A'>\n",
      "<re.Match object; span=(29, 30), match='B'>\n",
      "<re.Match object; span=(30, 31), match='C'>\n",
      "<re.Match object; span=(31, 32), match='D'>\n",
      "<re.Match object; span=(32, 33), match='E'>\n",
      "<re.Match object; span=(33, 34), match='F'>\n",
      "<re.Match object; span=(34, 35), match='G'>\n",
      "<re.Match object; span=(35, 36), match='H'>\n",
      "<re.Match object; span=(36, 37), match='I'>\n",
      "<re.Match object; span=(37, 38), match='J'>\n",
      "<re.Match object; span=(38, 39), match='K'>\n",
      "<re.Match object; span=(39, 40), match='L'>\n",
      "<re.Match object; span=(40, 41), match='M'>\n",
      "<re.Match object; span=(41, 42), match='N'>\n",
      "<re.Match object; span=(42, 43), match='O'>\n",
      "<re.Match object; span=(43, 44), match='P'>\n",
      "<re.Match object; span=(44, 45), match='Q'>\n",
      "<re.Match object; span=(45, 46), match='R'>\n",
      "<re.Match object; span=(46, 47), match='S'>\n",
      "<re.Match object; span=(47, 48), match='T'>\n",
      "<re.Match object; span=(48, 49), match='U'>\n",
      "<re.Match object; span=(49, 50), match='V'>\n",
      "<re.Match object; span=(50, 51), match='W'>\n",
      "<re.Match object; span=(51, 52), match='X'>\n",
      "<re.Match object; span=(52, 53), match='Y'>\n",
      "<re.Match object; span=(53, 54), match='Z'>\n",
      "<re.Match object; span=(56, 57), match='H'>\n",
      "<re.Match object; span=(57, 58), match='a'>\n",
      "<re.Match object; span=(59, 60), match='H'>\n",
      "<re.Match object; span=(60, 61), match='a'>\n",
      "<re.Match object; span=(61, 62), match='H'>\n",
      "<re.Match object; span=(62, 63), match='a'>\n",
      "<re.Match object; span=(65, 66), match='M'>\n",
      "<re.Match object; span=(66, 67), match='e'>\n",
      "<re.Match object; span=(67, 68), match='t'>\n",
      "<re.Match object; span=(68, 69), match='a'>\n",
      "<re.Match object; span=(70, 71), match='C'>\n",
      "<re.Match object; span=(71, 72), match='h'>\n",
      "<re.Match object; span=(72, 73), match='a'>\n",
      "<re.Match object; span=(73, 74), match='r'>\n",
      "<re.Match object; span=(74, 75), match='a'>\n",
      "<re.Match object; span=(75, 76), match='c'>\n",
      "<re.Match object; span=(76, 77), match='t'>\n",
      "<re.Match object; span=(77, 78), match='e'>\n",
      "<re.Match object; span=(78, 79), match='r'>\n",
      "<re.Match object; span=(79, 80), match='s'>\n",
      "<re.Match object; span=(81, 82), match='.'>\n",
      "<re.Match object; span=(83, 84), match='^'>\n",
      "<re.Match object; span=(85, 86), match='$'>\n",
      "<re.Match object; span=(87, 88), match='*'>\n",
      "<re.Match object; span=(89, 90), match='+'>\n",
      "<re.Match object; span=(91, 92), match='{'>\n",
      "<re.Match object; span=(93, 94), match='}'>\n",
      "<re.Match object; span=(95, 96), match='['>\n",
      "<re.Match object; span=(97, 98), match=']'>\n",
      "<re.Match object; span=(99, 100), match='\\\\'>\n",
      "<re.Match object; span=(101, 102), match='|'>\n",
      "<re.Match object; span=(103, 104), match='('>\n",
      "<re.Match object; span=(105, 106), match=')'>\n",
      "<re.Match object; span=(108, 109), match='g'>\n",
      "<re.Match object; span=(109, 110), match='o'>\n",
      "<re.Match object; span=(110, 111), match='o'>\n",
      "<re.Match object; span=(111, 112), match='g'>\n",
      "<re.Match object; span=(112, 113), match='l'>\n",
      "<re.Match object; span=(113, 114), match='e'>\n",
      "<re.Match object; span=(114, 115), match='.'>\n",
      "<re.Match object; span=(115, 116), match='c'>\n",
      "<re.Match object; span=(116, 117), match='o'>\n",
      "<re.Match object; span=(117, 118), match='m'>\n",
      "<re.Match object; span=(120, 121), match='1'>\n",
      "<re.Match object; span=(121, 122), match='2'>\n",
      "<re.Match object; span=(122, 123), match='3'>\n",
      "<re.Match object; span=(123, 124), match='-'>\n",
      "<re.Match object; span=(124, 125), match='4'>\n",
      "<re.Match object; span=(125, 126), match='5'>\n",
      "<re.Match object; span=(126, 127), match='6'>\n",
      "<re.Match object; span=(127, 128), match='-'>\n",
      "<re.Match object; span=(128, 129), match='7'>\n",
      "<re.Match object; span=(129, 130), match='8'>\n",
      "<re.Match object; span=(130, 131), match='9'>\n",
      "<re.Match object; span=(131, 132), match='0'>\n",
      "<re.Match object; span=(133, 134), match='1'>\n",
      "<re.Match object; span=(134, 135), match='2'>\n",
      "<re.Match object; span=(135, 136), match='3'>\n",
      "<re.Match object; span=(136, 137), match='.'>\n",
      "<re.Match object; span=(137, 138), match='4'>\n",
      "<re.Match object; span=(138, 139), match='5'>\n",
      "<re.Match object; span=(139, 140), match='6'>\n",
      "<re.Match object; span=(140, 141), match='.'>\n",
      "<re.Match object; span=(141, 142), match='7'>\n",
      "<re.Match object; span=(142, 143), match='8'>\n",
      "<re.Match object; span=(143, 144), match='9'>\n",
      "<re.Match object; span=(144, 145), match='0'>\n",
      "<re.Match object; span=(147, 148), match='M'>\n",
      "<re.Match object; span=(148, 149), match='r'>\n",
      "<re.Match object; span=(149, 150), match='.'>\n",
      "<re.Match object; span=(151, 152), match='R'>\n",
      "<re.Match object; span=(152, 153), match='a'>\n",
      "<re.Match object; span=(153, 154), match='m'>\n",
      "<re.Match object; span=(154, 155), match='e'>\n",
      "<re.Match object; span=(155, 156), match='s'>\n",
      "<re.Match object; span=(156, 157), match='h'>\n",
      "<re.Match object; span=(158, 159), match='M'>\n",
      "<re.Match object; span=(159, 160), match='r'>\n",
      "<re.Match object; span=(161, 162), match='S'>\n",
      "<re.Match object; span=(162, 163), match='u'>\n",
      "<re.Match object; span=(163, 164), match='r'>\n",
      "<re.Match object; span=(164, 165), match='e'>\n",
      "<re.Match object; span=(165, 166), match='s'>\n",
      "<re.Match object; span=(166, 167), match='h'>\n",
      "<re.Match object; span=(168, 169), match='M'>\n",
      "<re.Match object; span=(169, 170), match='s'>\n",
      "<re.Match object; span=(171, 172), match='S'>\n",
      "<re.Match object; span=(172, 173), match='h'>\n",
      "<re.Match object; span=(173, 174), match='i'>\n",
      "<re.Match object; span=(174, 175), match='t'>\n",
      "<re.Match object; span=(175, 176), match='a'>\n",
      "<re.Match object; span=(176, 177), match='l'>\n",
      "<re.Match object; span=(178, 179), match='M'>\n",
      "<re.Match object; span=(179, 180), match='r'>\n",
      "<re.Match object; span=(180, 181), match='s'>\n",
      "<re.Match object; span=(181, 182), match='.'>\n",
      "<re.Match object; span=(183, 184), match='G'>\n",
      "<re.Match object; span=(184, 185), match='a'>\n",
      "<re.Match object; span=(185, 186), match='r'>\n",
      "<re.Match object; span=(186, 187), match='i'>\n",
      "<re.Match object; span=(187, 188), match='m'>\n",
      "<re.Match object; span=(188, 189), match='a'>\n",
      "<re.Match object; span=(190, 191), match='M'>\n",
      "<re.Match object; span=(191, 192), match='r'>\n",
      "<re.Match object; span=(192, 193), match='.'>\n",
      "<re.Match object; span=(194, 195), match='R'>\n"
     ]
    }
   ],
   "source": [
    "# pattern = re.compile (r'\\d')\n",
    "# pattern = re.compile (r'\\D')\n",
    "# pattern = re.compile (r'\\w')\n",
    "# pattern = re.compile (r'\\W')\n",
    "# pattern = re.compile (r'\\s')\n",
    "pattern = re.compile (r'\\S')\n",
    "matches = pattern.finditer (textToSearch)\n",
    "for _ in matches:\n",
    "    print (_)"
   ]
  },
  {
   "cell_type": "code",
   "execution_count": 15,
   "id": "88e5426a-e885-4914-858c-b3c96120da4a",
   "metadata": {},
   "outputs": [
    {
     "name": "stdout",
     "output_type": "stream",
     "text": [
      "<re.Match object; span=(61, 63), match='Ha'>\n"
     ]
    }
   ],
   "source": [
    "# pattern = re.compile (r'\\bHa')\n",
    "pattern = re.compile (r'\\BHa')\n",
    "matches = pattern.finditer (textToSearch)\n",
    "for _ in matches:\n",
    "    print (_)"
   ]
  },
  {
   "cell_type": "code",
   "execution_count": 24,
   "id": "73a84f31-ac01-43f4-b9be-4b1baa2a1490",
   "metadata": {},
   "outputs": [],
   "source": [
    "sampleString = 'string string'"
   ]
  },
  {
   "cell_type": "code",
   "execution_count": 25,
   "id": "83d06164-4da8-4b93-88e4-43c39507269e",
   "metadata": {},
   "outputs": [],
   "source": [
    "# pattern = re.compile (r'^Sample')\n",
    "pattern = re.compile (r'^string$')\n",
    "matches = pattern.finditer (sampleString)\n",
    "for _ in matches:\n",
    "    print (_)"
   ]
  },
  {
   "cell_type": "markdown",
   "id": "03ceb512-ebc2-4e9b-b374-0e708307da64",
   "metadata": {},
   "source": [
    "#### Handling of Numbers"
   ]
  },
  {
   "cell_type": "code",
   "execution_count": 31,
   "id": "76ce2356-5ff7-4b06-b471-3b48f152bcb5",
   "metadata": {},
   "outputs": [
    {
     "name": "stdout",
     "output_type": "stream",
     "text": [
      "<re.Match object; span=(120, 132), match='123-456-7890'>\n",
      "<re.Match object; span=(133, 145), match='123.456.7890'>\n"
     ]
    }
   ],
   "source": [
    "pattern = re.compile (r'\\d\\d\\d.\\d\\d\\d.\\d\\d\\d\\d')\n",
    "matches = pattern.finditer (textToSearch)\n",
    "for _ in matches:\n",
    "    print (_)"
   ]
  },
  {
   "cell_type": "code",
   "execution_count": 32,
   "id": "ede9c40c-4ab0-47d4-8812-b47f599f8f41",
   "metadata": {},
   "outputs": [],
   "source": [
    "phoneNumbers = '''\n",
    "123.456.7890\n",
    "123-456-7890\n",
    "123--456--7890\n",
    "123*456*7890\n",
    "800-456-7890\n",
    "900-456-7890\n",
    "'''"
   ]
  },
  {
   "cell_type": "code",
   "execution_count": 41,
   "id": "cd19b859-a980-46b2-ab21-450a9075c742",
   "metadata": {},
   "outputs": [
    {
     "name": "stdout",
     "output_type": "stream",
     "text": [
      "<re.Match object; span=(55, 67), match='800-456-7890'>\n",
      "<re.Match object; span=(68, 80), match='900-456-7890'>\n"
     ]
    }
   ],
   "source": [
    "# pattern = re.compile (r'\\d\\d\\d[-.*][-.]\\d\\d\\d[-.][-.]\\d\\d\\d\\d')\n",
    "# pattern = re.compile (r'\\d\\d\\d[-.*]\\d\\d\\d[-.]\\d\\d\\d\\d')\n",
    "pattern = re.compile (r'[89]00[-.]\\d\\d\\d[-.]\\d\\d\\d\\d')\n",
    "matches = pattern.finditer (phoneNumbers)\n",
    "for _ in matches:\n",
    "    print (_)"
   ]
  },
  {
   "cell_type": "code",
   "execution_count": null,
   "id": "ea4e83b9-9a28-474e-a9dd-b68ef770c007",
   "metadata": {},
   "outputs": [],
   "source": []
  }
 ],
 "metadata": {
  "kernelspec": {
   "display_name": "Python 3 (ipykernel)",
   "language": "python",
   "name": "python3"
  },
  "language_info": {
   "codemirror_mode": {
    "name": "ipython",
    "version": 3
   },
   "file_extension": ".py",
   "mimetype": "text/x-python",
   "name": "python",
   "nbconvert_exporter": "python",
   "pygments_lexer": "ipython3",
   "version": "3.11.5"
  }
 },
 "nbformat": 4,
 "nbformat_minor": 5
}
