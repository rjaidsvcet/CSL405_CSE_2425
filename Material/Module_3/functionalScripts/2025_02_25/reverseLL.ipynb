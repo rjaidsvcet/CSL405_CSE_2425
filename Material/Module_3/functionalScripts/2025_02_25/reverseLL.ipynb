{
 "cells": [
  {
   "cell_type": "code",
   "execution_count": 1,
   "id": "f19c1f0d-a6f7-4751-8814-21a90ee23839",
   "metadata": {},
   "outputs": [],
   "source": [
    "class Node:\n",
    "    def __init__ (self, value):\n",
    "        self.data = value\n",
    "        self.next = None"
   ]
  },
  {
   "cell_type": "code",
   "execution_count": 3,
   "id": "eae1a7f7-1caf-42e1-9a6f-189d436b1f28",
   "metadata": {},
   "outputs": [
    {
     "name": "stdout",
     "output_type": "stream",
     "text": [
      "3 -> 2 -> 1 -> Null\n",
      "1 -> 2 -> 3 -> Null\n"
     ]
    }
   ],
   "source": [
    "class LinkedList:\n",
    "    def __init__ (self):\n",
    "        self.head = None\n",
    "\n",
    "    def insert (self, data):\n",
    "        newNode = Node (data)\n",
    "        newNode.next = self.head\n",
    "        self.head = newNode\n",
    "        return\n",
    "\n",
    "    def traversal (self):\n",
    "        temp = self.head\n",
    "        while temp:\n",
    "            print (temp.data, end = ' -> ')\n",
    "            temp = temp.next\n",
    "            if temp is None:\n",
    "                print ('Null')\n",
    "\n",
    "    def recursiveFunction (self, head):\n",
    "        if not head:\n",
    "            return None\n",
    "\n",
    "        newHead = head\n",
    "        if head.next:\n",
    "            newHead = self.recursiveFunction (head.next)\n",
    "            head.next.next = head\n",
    "        head.next = None\n",
    "        return newHead\n",
    "\n",
    "    #### Recursive Wrapper\n",
    "    def reverseLL (self):\n",
    "        self.head = self.recursiveFunction (self.head)\n",
    "\n",
    "if __name__ == '__main__':\n",
    "    ll = LinkedList ()\n",
    "    ll.insert (1)\n",
    "    ll.insert (2)\n",
    "    ll.insert (3)\n",
    "    ll.traversal ()\n",
    "    ll.reverseLL ()\n",
    "    ll.traversal ()"
   ]
  }
 ],
 "metadata": {
  "kernelspec": {
   "display_name": "Python 3 (ipykernel)",
   "language": "python",
   "name": "python3"
  },
  "language_info": {
   "codemirror_mode": {
    "name": "ipython",
    "version": 3
   },
   "file_extension": ".py",
   "mimetype": "text/x-python",
   "name": "python",
   "nbconvert_exporter": "python",
   "pygments_lexer": "ipython3",
   "version": "3.11.5"
  }
 },
 "nbformat": 4,
 "nbformat_minor": 5
}
