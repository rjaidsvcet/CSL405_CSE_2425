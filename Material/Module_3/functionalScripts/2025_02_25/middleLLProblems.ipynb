{
 "cells": [
  {
   "cell_type": "code",
   "execution_count": 1,
   "id": "81f47511-64e5-43ea-a77c-2be9fe8e5a1c",
   "metadata": {},
   "outputs": [],
   "source": [
    "class Node:\n",
    "    def __init__ (self, value):\n",
    "        self.data = value\n",
    "        self.next = None"
   ]
  },
  {
   "cell_type": "code",
   "execution_count": 2,
   "id": "94573b64-0656-4bae-bca4-e02f436a2cd7",
   "metadata": {},
   "outputs": [
    {
     "name": "stdout",
     "output_type": "stream",
     "text": [
      "1 -> 2 -> 4 -> 5 -> Null\n",
      "1 -> 2 -> 3 -> 4 -> 5 -> Null\n"
     ]
    }
   ],
   "source": [
    "class LL:\n",
    "    def __init__ (self):\n",
    "        self.head = None\n",
    "\n",
    "    def insertion (self, data):\n",
    "        newNode = Node (data)\n",
    "        if not self.head:\n",
    "            self.head = newNode\n",
    "        else:\n",
    "            current = self.head\n",
    "            while current.next:\n",
    "                current = current.next\n",
    "            current.next = newNode\n",
    "\n",
    "    def traversal (self):\n",
    "        current = self.head\n",
    "        while current:\n",
    "            print (current.data, end = ' -> ')\n",
    "            current = current.next\n",
    "        print ('Null')\n",
    "\n",
    "    def middleInsertion (self, element):\n",
    "        if self.head is None:\n",
    "            return\n",
    "\n",
    "        newNode = Node (element)\n",
    "        current = self.head\n",
    "        length = 0\n",
    "\n",
    "        while current is not None:\n",
    "            length += 1\n",
    "            current = current.next\n",
    "\n",
    "        middle = length // 2 if length % 2 == 0 else (length + 1) // 2\n",
    "\n",
    "        current = self.head\n",
    "        while middle > 1:\n",
    "            current = current.next\n",
    "            middle -= 1\n",
    "\n",
    "        newNode.next = current.next\n",
    "        current.next = newNode\n",
    "        return\n",
    "\n",
    "if __name__ == '__main__':\n",
    "    ll = LL ()\n",
    "    ll.insertion (1)\n",
    "    ll.insertion (2)\n",
    "    ll.insertion (4)\n",
    "    ll.insertion (5)\n",
    "    ll.traversal ()\n",
    "    ll.middleInsertion (3)\n",
    "    ll.traversal ()"
   ]
  },
  {
   "cell_type": "markdown",
   "id": "527c4cda-c881-478d-bee6-2889397fd3fc",
   "metadata": {},
   "source": [
    "### Single Traversal for inserting element in middle of LL"
   ]
  },
  {
   "cell_type": "code",
   "execution_count": 3,
   "id": "d9a26acc-a749-40ec-9819-673fa549a0a6",
   "metadata": {},
   "outputs": [
    {
     "name": "stdout",
     "output_type": "stream",
     "text": [
      "1 -> 2 -> 4 -> 5 -> Null\n",
      "1 -> 2 -> 3 -> 4 -> 5 -> Null\n"
     ]
    }
   ],
   "source": [
    "class LL:\n",
    "    def __init__ (self):\n",
    "        self.head = None\n",
    "\n",
    "    def insertion (self, data):\n",
    "        newNode = Node (data)\n",
    "        if not self.head:\n",
    "            self.head = newNode\n",
    "        else:\n",
    "            current = self.head\n",
    "            while current.next:\n",
    "                current = current.next\n",
    "            current.next = newNode\n",
    "\n",
    "    def traversal (self):\n",
    "        current = self.head\n",
    "        while current:\n",
    "            print (current.data, end = ' -> ')\n",
    "            current = current.next\n",
    "        print ('Null')\n",
    "\n",
    "    def middleInsertion (self, element):\n",
    "        if self.head is None:\n",
    "            return\n",
    "        else:\n",
    "            newNode = Node (element)\n",
    "            slow, fast = self.head, self.head.next\n",
    "\n",
    "        while fast and fast.next:\n",
    "            slow = slow.next\n",
    "            fast = fast.next.next\n",
    "\n",
    "        newNode.next = slow.next\n",
    "        slow.next = newNode\n",
    "        return\n",
    "\n",
    "if __name__ == '__main__':\n",
    "    ll = LL ()\n",
    "    ll.insertion (1)\n",
    "    ll.insertion (2)\n",
    "    ll.insertion (4)\n",
    "    ll.insertion (5)\n",
    "    ll.traversal ()\n",
    "    ll.middleInsertion (3)\n",
    "    ll.traversal ()"
   ]
  },
  {
   "cell_type": "code",
   "execution_count": null,
   "id": "ad0f4135-a62b-4e87-a66c-0ad749a14b4b",
   "metadata": {},
   "outputs": [],
   "source": []
  }
 ],
 "metadata": {
  "kernelspec": {
   "display_name": "Python 3 (ipykernel)",
   "language": "python",
   "name": "python3"
  },
  "language_info": {
   "codemirror_mode": {
    "name": "ipython",
    "version": 3
   },
   "file_extension": ".py",
   "mimetype": "text/x-python",
   "name": "python",
   "nbconvert_exporter": "python",
   "pygments_lexer": "ipython3",
   "version": "3.11.5"
  }
 },
 "nbformat": 4,
 "nbformat_minor": 5
}
