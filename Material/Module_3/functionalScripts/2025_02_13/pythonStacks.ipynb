{
 "cells": [
  {
   "cell_type": "markdown",
   "id": "6a427a71-bdd0-4d02-8de6-9c523d0e1953",
   "metadata": {},
   "source": [
    "### Stack"
   ]
  },
  {
   "cell_type": "code",
   "execution_count": 1,
   "id": "312d2253-cfe8-4dab-8d9c-f23e328524e0",
   "metadata": {},
   "outputs": [
    {
     "name": "stdout",
     "output_type": "stream",
     "text": [
      "Initial Stack\n",
      "['a', 'b', 'c']\n"
     ]
    }
   ],
   "source": [
    "stack = list ()\n",
    "\n",
    "# Append Operation\n",
    "stack.append ('a')\n",
    "stack.append ('b')\n",
    "stack.append ('c')\n",
    "print ('Initial Stack')\n",
    "print (stack)"
   ]
  },
  {
   "cell_type": "code",
   "execution_count": 2,
   "id": "b3337f3f-2969-4587-895b-a7c985dbd88e",
   "metadata": {},
   "outputs": [
    {
     "name": "stdout",
     "output_type": "stream",
     "text": [
      "c\n",
      "b\n",
      "a\n",
      "[]\n"
     ]
    }
   ],
   "source": [
    "# Pop Operation\n",
    "print (stack.pop ())\n",
    "print (stack.pop ())\n",
    "print (stack.pop ())\n",
    "print (stack)"
   ]
  },
  {
   "cell_type": "code",
   "execution_count": 3,
   "id": "560a9b6c-2fe6-439d-a33e-d5208e271c6f",
   "metadata": {},
   "outputs": [
    {
     "name": "stdout",
     "output_type": "stream",
     "text": [
      "deque(['a', 'b', 'c'])\n",
      "c\n",
      "b\n",
      "a\n",
      "deque([])\n"
     ]
    }
   ],
   "source": [
    "from collections import deque\n",
    "\n",
    "stack = deque ()\n",
    "\n",
    "stack.append ('a')\n",
    "stack.append ('b')\n",
    "stack.append ('c')\n",
    "print (stack)\n",
    "print (stack.pop ())\n",
    "print (stack.pop ())\n",
    "print (stack.pop ())\n",
    "print (stack)"
   ]
  },
  {
   "cell_type": "code",
   "execution_count": 4,
   "id": "313861ea-a811-43fa-826f-03abbdac412a",
   "metadata": {},
   "outputs": [
    {
     "name": "stdout",
     "output_type": "stream",
     "text": [
      "0\n",
      "True\n",
      "3\n",
      "c\n",
      "b\n",
      "a\n",
      "True\n"
     ]
    }
   ],
   "source": [
    "from queue import LifoQueue\n",
    "\n",
    "stack = LifoQueue (maxsize=3)\n",
    "\n",
    "print (stack.qsize ())\n",
    "\n",
    "stack.put ('a')\n",
    "stack.put ('b')\n",
    "stack.put ('c')\n",
    "\n",
    "print (stack.full ())\n",
    "print (stack.qsize ())\n",
    "\n",
    "print (stack.get ())\n",
    "print (stack.get ())\n",
    "print (stack.get ())\n",
    "\n",
    "print (stack.empty ())"
   ]
  },
  {
   "cell_type": "code",
   "execution_count": null,
   "id": "19942dce-8407-4871-a318-b92278b573aa",
   "metadata": {},
   "outputs": [],
   "source": []
  }
 ],
 "metadata": {
  "kernelspec": {
   "display_name": "Python 3 (ipykernel)",
   "language": "python",
   "name": "python3"
  },
  "language_info": {
   "codemirror_mode": {
    "name": "ipython",
    "version": 3
   },
   "file_extension": ".py",
   "mimetype": "text/x-python",
   "name": "python",
   "nbconvert_exporter": "python",
   "pygments_lexer": "ipython3",
   "version": "3.11.5"
  }
 },
 "nbformat": 4,
 "nbformat_minor": 5
}
