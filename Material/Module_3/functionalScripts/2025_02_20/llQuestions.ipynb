{
 "cells": [
  {
   "cell_type": "code",
   "execution_count": 1,
   "id": "e6cdfd29-40fc-493f-9736-bba42d807ce6",
   "metadata": {},
   "outputs": [],
   "source": [
    "class Node:\n",
    "    def __init__ (self, data) -> None:\n",
    "        self.data = data\n",
    "        self.next = None"
   ]
  },
  {
   "cell_type": "code",
   "execution_count": 4,
   "id": "1636a09b-af37-406b-86da-ec93ce53c84b",
   "metadata": {},
   "outputs": [
    {
     "name": "stdout",
     "output_type": "stream",
     "text": [
      "4 -> 3 -> 2 -> 1 -> Null\n",
      "True\n"
     ]
    }
   ],
   "source": [
    "class LinkedList:\n",
    "    def __init__ (self) -> None:\n",
    "        self.head = None\n",
    "\n",
    "    def insert (self, data):\n",
    "        newNode = Node (data)\n",
    "        newNode.next = self.head\n",
    "        self.head = newNode\n",
    "\n",
    "    def traversal (self):\n",
    "        current = self.head\n",
    "        while current:\n",
    "            print (current.data, end = ' -> ')\n",
    "            current = current.next\n",
    "        print ('Null')\n",
    "\n",
    "    def detectingCycles (self) -> bool:\n",
    "        hashmap = set ()\n",
    "        temp = self.head\n",
    "        while temp:\n",
    "            if temp in hashmap:\n",
    "                return True\n",
    "            hashmap.add (temp)\n",
    "            temp = temp.next\n",
    "        return False\n",
    "\n",
    "if __name__ == '__main__':\n",
    "    ll = LinkedList ()\n",
    "    ll.insert (1)\n",
    "    ll.insert (2)\n",
    "    ll.insert (3)\n",
    "    ll.insert (4)\n",
    "    ll.traversal ()\n",
    "    ll.head.next.next.next.next = ll.head\n",
    "    print (ll.detectingCycles ())"
   ]
  },
  {
   "cell_type": "markdown",
   "id": "dafdc385-d33a-4a3e-a7ac-edcfe73ecc6c",
   "metadata": {},
   "source": [
    "### Floyd Cycle - Hare and Tortoise Algorithm"
   ]
  },
  {
   "cell_type": "code",
   "execution_count": 7,
   "id": "cedfa77f-f43e-478d-bc7b-f53582b8dec2",
   "metadata": {},
   "outputs": [
    {
     "name": "stdout",
     "output_type": "stream",
     "text": [
      "4 -> 3 -> 2 -> 1 -> Null\n",
      "True\n"
     ]
    }
   ],
   "source": [
    "class LinkedList:\n",
    "    def __init__ (self) -> None:\n",
    "        self.head = None\n",
    "\n",
    "    def insert (self, data):\n",
    "        newNode = Node (data)\n",
    "        newNode.next = self.head\n",
    "        self.head = newNode\n",
    "\n",
    "    def traversal (self):\n",
    "        current = self.head\n",
    "        while current:\n",
    "            print (current.data, end = ' -> ')\n",
    "            current = current.next\n",
    "        print ('Null')\n",
    "\n",
    "    def detectingCycles (self) -> bool:\n",
    "        slow, fast = self.head, self.head\n",
    "        while fast and fast.next:\n",
    "            slow = slow.next\n",
    "            fast = fast.next.next\n",
    "            if slow == fast:\n",
    "                return True\n",
    "        return False\n",
    "\n",
    "if __name__ == '__main__':\n",
    "    ll = LinkedList ()\n",
    "    ll.insert (1)\n",
    "    ll.insert (2)\n",
    "    ll.insert (3)\n",
    "    ll.insert (4)\n",
    "    ll.traversal ()\n",
    "    ll.head.next.next.next.next = ll.head\n",
    "    print (ll.detectingCycles ())"
   ]
  },
  {
   "cell_type": "markdown",
   "id": "8aa4b781-fc42-44b0-9e34-d41eb75714ea",
   "metadata": {},
   "source": [
    "#### Reversing a LL"
   ]
  },
  {
   "cell_type": "code",
   "execution_count": 8,
   "id": "ac406b37-465c-4861-8699-cf7d875c1b06",
   "metadata": {},
   "outputs": [
    {
     "name": "stdout",
     "output_type": "stream",
     "text": [
      "4 -> 3 -> 2 -> 1 -> Null\n",
      "1 -> 2 -> 3 -> 4 -> Null\n"
     ]
    }
   ],
   "source": [
    "class LinkedList:\n",
    "    def __init__ (self) -> None:\n",
    "        self.head = None\n",
    "\n",
    "    def insert (self, data):\n",
    "        newNode = Node (data)\n",
    "        newNode.next = self.head\n",
    "        self.head = newNode\n",
    "\n",
    "    def traversal (self):\n",
    "        current = self.head\n",
    "        while current:\n",
    "            print (current.data, end = ' -> ')\n",
    "            current = current.next\n",
    "        print ('Null')\n",
    "\n",
    "    def reverseLinkedList (self):\n",
    "        previous, current = None, self.head\n",
    "        while current:\n",
    "            next = current.next\n",
    "            current.next = previous\n",
    "            previous = current\n",
    "            current = next\n",
    "        self.head = previous\n",
    "\n",
    "if __name__ == '__main__':\n",
    "    ll = LinkedList ()\n",
    "    ll.insert (1)\n",
    "    ll.insert (2)\n",
    "    ll.insert (3)\n",
    "    ll.insert (4)\n",
    "    ll.traversal ()\n",
    "    ll.reverseLinkedList ()\n",
    "    ll.traversal ()"
   ]
  },
  {
   "cell_type": "code",
   "execution_count": null,
   "id": "41748bc9-c354-4721-aed0-a3632b6833b4",
   "metadata": {},
   "outputs": [],
   "source": []
  }
 ],
 "metadata": {
  "kernelspec": {
   "display_name": "Python 3 (ipykernel)",
   "language": "python",
   "name": "python3"
  },
  "language_info": {
   "codemirror_mode": {
    "name": "ipython",
    "version": 3
   },
   "file_extension": ".py",
   "mimetype": "text/x-python",
   "name": "python",
   "nbconvert_exporter": "python",
   "pygments_lexer": "ipython3",
   "version": "3.11.5"
  }
 },
 "nbformat": 4,
 "nbformat_minor": 5
}
